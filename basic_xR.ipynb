{
 "cells": [
  {
   "cell_type": "code",
   "execution_count": null,
   "metadata": {},
   "outputs": [],
   "source": [
    "xR_data = pd.read_csv(\"C:/Users/Pranav Koka/Downloads/Ipl_stats/augmented_data.csv\")"
   ]
  },
  {
   "cell_type": "code",
   "execution_count": null,
   "metadata": {},
   "outputs": [],
   "source": [
    "#defining xR currently as the \n",
    "xR_data['xR_innings'] = data['innings_total_runs'] / data['innings_total_balls']\n",
    "xR_data['xR_match'] = data['match_total_runs'] / data['match_total_balls']"
   ]
  },
  {
   "cell_type": "code",
   "execution_count": null,
   "metadata": {},
   "outputs": [],
   "source": [
    "xR_data['xR_match+'] = data['total_runs'] - data['xR_match']\n",
    "xR_data['xR_innings+'] = data['total_runs'] - data['xR_innings']"
   ]
  },
  {
   "cell_type": "code",
   "execution_count": null,
   "metadata": {},
   "outputs": [],
   "source": [
    "xR_data['cumu_xR_match+'] = data.groupby(['match_id', 'batter'])['xR_match+'].cumsum()\n",
    "data['cumu_xR_innings+'] = data.groupby(['match_id', 'batter'])['xR_innings+'].cumsum()"
   ]
  },
  {
   "cell_type": "code",
   "execution_count": null,
   "metadata": {},
   "outputs": [
    {
     "data": {
      "text/plain": [
       "0        NaN\n",
       "1        NaN\n",
       "3        NaN\n",
       "4        NaN\n",
       "5        NaN\n",
       "          ..\n",
       "243812   NaN\n",
       "243813   NaN\n",
       "243814   NaN\n",
       "243815   NaN\n",
       "243816   NaN\n",
       "Length: 236313, dtype: float64"
      ]
     },
     "metadata": {},
     "output_type": "display_data"
    }
   ],
   "source": [
    "check = data[data['batter'] == 'V Kohli']['xR_match+'].cumsum() / data[(data['extras_type'] != 'wides') & (data['extras_type'] != 'penalty')].groupby('batter').cumcount() + 1\n",
    "check"
   ]
  },
  {
   "cell_type": "code",
   "execution_count": null,
   "metadata": {},
   "outputs": [],
   "source": [
    "data['cumulative_xR_match+'] = data.groupby('batter')['xR_match+'].transform('sum')\n",
    "# Drop duplicates to get a unique list of batters with their cumulative scores\n",
    "unique_batters = data[['batter', 'cumulative_xR_match+']].drop_duplicates()"
   ]
  },
  {
   "cell_type": "code",
   "execution_count": null,
   "metadata": {},
   "outputs": [],
   "source": [
    "data['career_balls_faced'] = data[(data['extras_type'] != 'wides') & (data['extras_type'] != 'penalty')].groupby('batter').cumcount() + 1\n",
    "data['career_balls_faced'] = data.groupby('batter')['career_balls_faced'].transform('max')\n",
    "balls_faced = data[['batter', 'career_balls_faced']].drop_duplicates()"
   ]
  },
  {
   "cell_type": "code",
   "execution_count": null,
   "metadata": {},
   "outputs": [],
   "source": [
    "#unique_batters"
   ]
  },
  {
   "cell_type": "code",
   "execution_count": null,
   "metadata": {},
   "outputs": [],
   "source": [
    "unique_batters = pd.merge(unique_batters, balls_faced, on = 'batter', how = 'left')\n",
    "unique_batters['normalized_xR_match+'] = unique_batters['cumulative_xR_match+'] / unique_batters['career_balls_faced']"
   ]
  },
  {
   "cell_type": "code",
   "execution_count": null,
   "metadata": {},
   "outputs": [],
   "source": [
    "data.drop(['cumulative_xR_match+', 'career_balls_faced'], axis = 1, inplace=True)"
   ]
  },
  {
   "cell_type": "code",
   "execution_count": null,
   "metadata": {},
   "outputs": [],
   "source": [
    "sorted = unique_batters.sort_values(by='normalized_xR_match+', ascending=True)\n",
    "sorted = sorted[sorted['career_balls_faced'] >= 400]"
   ]
  },
  {
   "cell_type": "code",
   "execution_count": null,
   "metadata": {},
   "outputs": [
    {
     "data": {
      "text/html": [
       "<div>\n",
       "<style scoped>\n",
       "    .dataframe tbody tr th:only-of-type {\n",
       "        vertical-align: middle;\n",
       "    }\n",
       "\n",
       "    .dataframe tbody tr th {\n",
       "        vertical-align: top;\n",
       "    }\n",
       "\n",
       "    .dataframe thead th {\n",
       "        text-align: right;\n",
       "    }\n",
       "</style>\n",
       "<table border=\"1\" class=\"dataframe\">\n",
       "  <thead>\n",
       "    <tr style=\"text-align: right;\">\n",
       "      <th></th>\n",
       "      <th>batter</th>\n",
       "      <th>cumulative_xR_match+</th>\n",
       "      <th>career_balls_faced</th>\n",
       "      <th>normalized_xR_match+</th>\n",
       "    </tr>\n",
       "  </thead>\n",
       "  <tbody>\n",
       "    <tr>\n",
       "      <th>7</th>\n",
       "      <td>V Kohli</td>\n",
       "      <td>-498.305554</td>\n",
       "      <td>5590.0</td>\n",
       "      <td>-0.089142</td>\n",
       "    </tr>\n",
       "  </tbody>\n",
       "</table>\n",
       "</div>"
      ],
      "text/plain": [
       "    batter  cumulative_xR_match+  career_balls_faced  normalized_xR_match+\n",
       "7  V Kohli           -498.305554              5590.0             -0.089142"
      ]
     },
     "metadata": {},
     "output_type": "display_data"
    }
   ],
   "source": [
    "sorted[(sorted['batter'] == 'V Kohli')]"
   ]
  },
  {
   "cell_type": "code",
   "execution_count": null,
   "metadata": {},
   "outputs": [],
   "source": [
    "#sorted.to_csv(\"C:/Users/Pranav Koka/Downloads/Ipl_stats/sorted_normalized_xR_match+\", index=False)"
   ]
  },
  {
   "cell_type": "code",
   "execution_count": null,
   "metadata": {},
   "outputs": [],
   "source": [
    "#sorted.to_csv(\"C:/Users/Pranav Koka/Downloads/Ipl_stats/sorted_xR_match+\", index=False)"
   ]
  }
 ],
 "metadata": {
  "language_info": {
   "name": "python"
  }
 },
 "nbformat": 4,
 "nbformat_minor": 2
}
